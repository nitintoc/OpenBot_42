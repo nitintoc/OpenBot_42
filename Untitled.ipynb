{
 "cells": [
  {
   "cell_type": "code",
   "execution_count": 1,
   "id": "e1f0d548-c33a-491e-9aff-53abf84946ab",
   "metadata": {},
   "outputs": [
    {
     "name": "stdout",
     "output_type": "stream",
     "text": [
      "Collecting groq\n",
      "  Downloading groq-0.20.0-py3-none-any.whl.metadata (15 kB)\n",
      "Requirement already satisfied: anyio<5,>=3.5.0 in c:\\users\\nitin\\anaconda3\\lib\\site-packages (from groq) (4.2.0)\n",
      "Requirement already satisfied: distro<2,>=1.7.0 in c:\\users\\nitin\\anaconda3\\lib\\site-packages (from groq) (1.9.0)\n",
      "Requirement already satisfied: httpx<1,>=0.23.0 in c:\\users\\nitin\\anaconda3\\lib\\site-packages (from groq) (0.27.0)\n",
      "Requirement already satisfied: pydantic<3,>=1.9.0 in c:\\users\\nitin\\anaconda3\\lib\\site-packages (from groq) (2.9.2)\n",
      "Requirement already satisfied: sniffio in c:\\users\\nitin\\anaconda3\\lib\\site-packages (from groq) (1.3.0)\n",
      "Requirement already satisfied: typing-extensions<5,>=4.10 in c:\\users\\nitin\\anaconda3\\lib\\site-packages (from groq) (4.11.0)\n",
      "Requirement already satisfied: idna>=2.8 in c:\\users\\nitin\\anaconda3\\lib\\site-packages (from anyio<5,>=3.5.0->groq) (3.7)\n",
      "Requirement already satisfied: certifi in c:\\users\\nitin\\anaconda3\\lib\\site-packages (from httpx<1,>=0.23.0->groq) (2024.8.30)\n",
      "Requirement already satisfied: httpcore==1.* in c:\\users\\nitin\\anaconda3\\lib\\site-packages (from httpx<1,>=0.23.0->groq) (1.0.2)\n",
      "Requirement already satisfied: h11<0.15,>=0.13 in c:\\users\\nitin\\anaconda3\\lib\\site-packages (from httpcore==1.*->httpx<1,>=0.23.0->groq) (0.14.0)\n",
      "Requirement already satisfied: annotated-types>=0.6.0 in c:\\users\\nitin\\anaconda3\\lib\\site-packages (from pydantic<3,>=1.9.0->groq) (0.6.0)\n",
      "Requirement already satisfied: pydantic-core==2.23.4 in c:\\users\\nitin\\anaconda3\\lib\\site-packages (from pydantic<3,>=1.9.0->groq) (2.23.4)\n",
      "Downloading groq-0.20.0-py3-none-any.whl (124 kB)\n",
      "   ---------------------------------------- 0.0/124.9 kB ? eta -:--:--\n",
      "   ---------------------------------------- 0.0/124.9 kB ? eta -:--:--\n",
      "   --- ------------------------------------ 10.2/124.9 kB ? eta -:--:--\n",
      "   --- ------------------------------------ 10.2/124.9 kB ? eta -:--:--\n",
      "   ------ -------------------------------- 20.5/124.9 kB 131.3 kB/s eta 0:00:01\n",
      "   ------ -------------------------------- 20.5/124.9 kB 131.3 kB/s eta 0:00:01\n",
      "   --------- ----------------------------- 30.7/124.9 kB 119.1 kB/s eta 0:00:01\n",
      "   --------- ----------------------------- 30.7/124.9 kB 119.1 kB/s eta 0:00:01\n",
      "   ------------ -------------------------- 41.0/124.9 kB 115.5 kB/s eta 0:00:01\n",
      "   ------------ -------------------------- 41.0/124.9 kB 115.5 kB/s eta 0:00:01\n",
      "   ------------ -------------------------- 41.0/124.9 kB 115.5 kB/s eta 0:00:01\n",
      "   ------------ -------------------------- 41.0/124.9 kB 115.5 kB/s eta 0:00:01\n",
      "   ------------------- ------------------- 61.4/124.9 kB 113.0 kB/s eta 0:00:01\n",
      "   ------------------- ------------------- 61.4/124.9 kB 113.0 kB/s eta 0:00:01\n",
      "   ---------------------- ---------------- 71.7/124.9 kB 112.3 kB/s eta 0:00:01\n",
      "   ---------------------- ---------------- 71.7/124.9 kB 112.3 kB/s eta 0:00:01\n",
      "   ---------------------- ---------------- 71.7/124.9 kB 112.3 kB/s eta 0:00:01\n",
      "   ---------------------------- ---------- 92.2/124.9 kB 119.1 kB/s eta 0:00:01\n",
      "   ---------------------------- ---------- 92.2/124.9 kB 119.1 kB/s eta 0:00:01\n",
      "   ---------------------------- ---------- 92.2/124.9 kB 119.1 kB/s eta 0:00:01\n",
      "   ------------------------------- ------ 102.4/124.9 kB 113.4 kB/s eta 0:00:01\n",
      "   ------------------------------- ------ 102.4/124.9 kB 113.4 kB/s eta 0:00:01\n",
      "   ------------------------------- ------ 102.4/124.9 kB 113.4 kB/s eta 0:00:01\n",
      "   -------------------------------------- 124.9/124.9 kB 116.4 kB/s eta 0:00:00\n",
      "Installing collected packages: groq\n",
      "Successfully installed groq-0.20.0\n"
     ]
    }
   ],
   "source": [
    "!pip install groq"
   ]
  },
  {
   "cell_type": "code",
   "execution_count": 15,
   "id": "d4dcf45c-dddf-4189-a0d1-3939ba7491d3",
   "metadata": {},
   "outputs": [
    {
     "name": "stdout",
     "output_type": "stream",
     "text": [
      "None\n"
     ]
    },
    {
     "ename": "GroqError",
     "evalue": "The api_key client option must be set either by passing api_key to the client or by setting the GROQ_API_KEY environment variable",
     "output_type": "error",
     "traceback": [
      "\u001b[1;31m---------------------------------------------------------------------------\u001b[0m",
      "\u001b[1;31mGroqError\u001b[0m                                 Traceback (most recent call last)",
      "Cell \u001b[1;32mIn[15], line 7\u001b[0m\n\u001b[0;32m      4\u001b[0m api_key \u001b[38;5;241m=\u001b[39m os\u001b[38;5;241m.\u001b[39mgetenv(\u001b[38;5;124m\"\u001b[39m\u001b[38;5;124mAPI_KEY\u001b[39m\u001b[38;5;124m\"\u001b[39m)\n\u001b[0;32m      5\u001b[0m \u001b[38;5;28mprint\u001b[39m(api_key)\n\u001b[1;32m----> 7\u001b[0m client \u001b[38;5;241m=\u001b[39m Groq(api_key\u001b[38;5;241m=\u001b[39mapi_key)\n\u001b[0;32m      9\u001b[0m completion \u001b[38;5;241m=\u001b[39m client\u001b[38;5;241m.\u001b[39mchat\u001b[38;5;241m.\u001b[39mcompletions\u001b[38;5;241m.\u001b[39mcreate(\n\u001b[0;32m     10\u001b[0m     model\u001b[38;5;241m=\u001b[39m\u001b[38;5;124m\"\u001b[39m\u001b[38;5;124mllama-3.2-1b-preview\u001b[39m\u001b[38;5;124m\"\u001b[39m,\n\u001b[0;32m     11\u001b[0m     messages\u001b[38;5;241m=\u001b[39m[],\n\u001b[1;32m   (...)\u001b[0m\n\u001b[0;32m     16\u001b[0m     stop\u001b[38;5;241m=\u001b[39m\u001b[38;5;28;01mNone\u001b[39;00m,\n\u001b[0;32m     17\u001b[0m )\n\u001b[0;32m     19\u001b[0m \u001b[38;5;28;01mfor\u001b[39;00m chunk \u001b[38;5;129;01min\u001b[39;00m completion:\n",
      "File \u001b[1;32m~\\anaconda3\\Lib\\site-packages\\groq\\_client.py:84\u001b[0m, in \u001b[0;36mGroq.__init__\u001b[1;34m(self, api_key, base_url, timeout, max_retries, default_headers, default_query, http_client, _strict_response_validation)\u001b[0m\n\u001b[0;32m     82\u001b[0m     api_key \u001b[38;5;241m=\u001b[39m os\u001b[38;5;241m.\u001b[39menviron\u001b[38;5;241m.\u001b[39mget(\u001b[38;5;124m\"\u001b[39m\u001b[38;5;124mGROQ_API_KEY\u001b[39m\u001b[38;5;124m\"\u001b[39m)\n\u001b[0;32m     83\u001b[0m \u001b[38;5;28;01mif\u001b[39;00m api_key \u001b[38;5;129;01mis\u001b[39;00m \u001b[38;5;28;01mNone\u001b[39;00m:\n\u001b[1;32m---> 84\u001b[0m     \u001b[38;5;28;01mraise\u001b[39;00m GroqError(\n\u001b[0;32m     85\u001b[0m         \u001b[38;5;124m\"\u001b[39m\u001b[38;5;124mThe api_key client option must be set either by passing api_key to the client or by setting the GROQ_API_KEY environment variable\u001b[39m\u001b[38;5;124m\"\u001b[39m\n\u001b[0;32m     86\u001b[0m     )\n\u001b[0;32m     87\u001b[0m \u001b[38;5;28mself\u001b[39m\u001b[38;5;241m.\u001b[39mapi_key \u001b[38;5;241m=\u001b[39m api_key\n\u001b[0;32m     89\u001b[0m \u001b[38;5;28;01mif\u001b[39;00m base_url \u001b[38;5;129;01mis\u001b[39;00m \u001b[38;5;28;01mNone\u001b[39;00m:\n",
      "\u001b[1;31mGroqError\u001b[0m: The api_key client option must be set either by passing api_key to the client or by setting the GROQ_API_KEY environment variable"
     ]
    }
   ],
   "source": [
    "from groq import Groq\n",
    "import os\n",
    "\n",
    "api_key = os.getenv(\"API_KEY\")\n",
    "print(api_key)\n",
    "\n",
    "client = Groq(api_key=api_key)\n",
    "\n",
    "completion = client.chat.completions.create(\n",
    "    model=\"llama-3.2-1b-preview\",\n",
    "    messages=[],\n",
    "    temperature=1,\n",
    "    max_completion_tokens=1024,\n",
    "    top_p=1,\n",
    "    stream=True,\n",
    "    stop=None,\n",
    ")\n",
    "\n",
    "for chunk in completion:\n",
    "    print(chunk.choices[0].delta.content or \"\", end=\"\")"
   ]
  },
  {
   "cell_type": "code",
   "execution_count": null,
   "id": "b7dc831f-e516-4078-ade3-dcb8b735f26a",
   "metadata": {},
   "outputs": [],
   "source": []
  }
 ],
 "metadata": {
  "kernelspec": {
   "display_name": "Python 3 (ipykernel)",
   "language": "python",
   "name": "python3"
  },
  "language_info": {
   "codemirror_mode": {
    "name": "ipython",
    "version": 3
   },
   "file_extension": ".py",
   "mimetype": "text/x-python",
   "name": "python",
   "nbconvert_exporter": "python",
   "pygments_lexer": "ipython3",
   "version": "3.12.4"
  }
 },
 "nbformat": 4,
 "nbformat_minor": 5
}
